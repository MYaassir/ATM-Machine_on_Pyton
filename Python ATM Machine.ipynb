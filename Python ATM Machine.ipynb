{
  "nbformat": 4,
  "nbformat_minor": 0,
  "metadata": {
    "kernelspec": {
      "display_name": "Python 3",
      "language": "python",
      "name": "python3"
    },
    "language_info": {
      "codemirror_mode": {
        "name": "ipython",
        "version": 3
      },
      "file_extension": ".py",
      "mimetype": "text/x-python",
      "name": "python",
      "nbconvert_exporter": "python",
      "pygments_lexer": "ipython3",
      "version": "3.7.3"
    },
    "colab": {
      "name": "Python ATM Machine.ipynb",
      "provenance": []
    }
  },
  "cells": [
    {
      "cell_type": "markdown",
      "metadata": {
        "id": "OiTJTOdZB79m",
        "colab_type": "text"
      },
      "source": [
        "# PYTHON ATM Machine"
      ]
    },
    {
      "cell_type": "code",
      "metadata": {
        "id": "izLWdNh-B79u",
        "colab_type": "code",
        "colab": {}
      },
      "source": [
        "print(\"WELCOM TO PYTHON ATM\\n\\nPut your card and enter pin\")\n",
        "# this is for pin, \n",
        "# if pin will correct so program will run forword, \n",
        "# otherthan stop here.\n",
        "Pin_Code=int(input(\"Enter Your 4-digit Pin \")) # Pin=1234\n",
        "\n",
        "#This variable is to hold account balance\n",
        "#By default value is 0\n",
        "ab = 0\n",
        "\n",
        "#this function for continues transactions.       \n",
        "\n",
        "def transaction():\n",
        "    global ab\n",
        "    # this is for choices.\n",
        "    print(\"\\nSelect Your Option\",end='\\n')\n",
        "    print(\"w for WithDraw\",end='\\n')\n",
        "    print(\"d for Deposit\",end='\\n')\n",
        "    print(\"b for Balance\",end='\\n')\n",
        "    choice=str(input('\\n''\\n'))\n",
        "    \n",
        "#this is choice b for Account Balance.\n",
        "    if choice==\"b\":\n",
        "        print(f\"Your Balance is {ab}\")\n",
        "    \n",
        "#this is choice w for Withdraw.\n",
        "    elif choice==\"w\":\n",
        "        withdraw = int(input(\"Enter Amount \"))\n",
        "        if withdraw < 500:\n",
        "            print(\"Kindly Increase Your limit to Standard Limit\")\n",
        "            print(\"Standard Limit = 500\")\n",
        "        elif withdraw > ab:\n",
        "            print(\"Insufficient Balance\")\n",
        "        else:\n",
        "            ab=ab-withdraw\n",
        "            print(\"Kinldy Collect Cash\")\n",
        "            print(f\"Your Remaining Balance is {ab}\")\n",
        "    \n",
        "#this is choice d for Deposit.\n",
        "    elif choice== 'd':\n",
        "        deposit=int(input(\"Enter Amount \"))\n",
        "        if deposit < 500:\n",
        "            print(\"Kindly Increase Your limit to Standard Limit\")\n",
        "            print(\"Standard Limit = 500\")\n",
        "        else:\n",
        "            ab=ab+deposit\n",
        "            print(f\"Your Remaining Balance is {ab}\")\n",
        "    \n",
        "# this is for invalid choice.\n",
        "    else:\n",
        "        print(\"Invalid Selection\")\n",
        "    returns = str(input(\"\\nDO You Wish To Perform Another Transaction \\nYes = (y) & No = Press any other key :\"))\n",
        "    if returns == \"y\":\n",
        "        transaction()\n",
        "    else:\n",
        "        print('\\nThank You For Using PYTHON ATM :)')\n",
        "#If pin is corect it will call transaction funcion.\n",
        "if Pin_Code==1234:\n",
        "    transaction()\n",
        "else: #this is for wrong pin.\n",
        "    print(\"Your Account Number or Pin is invalid\")\n",
        "    print(\"invalid pin, please try again!\")        \n",
        "\n"
      ],
      "execution_count": 0,
      "outputs": []
    },
    {
      "cell_type": "markdown",
      "metadata": {
        "id": "L05N6qMEB79s",
        "colab_type": "text"
      },
      "source": [
        "Pregramed by Muhammad Yasir"
      ]
    }
  ]
}